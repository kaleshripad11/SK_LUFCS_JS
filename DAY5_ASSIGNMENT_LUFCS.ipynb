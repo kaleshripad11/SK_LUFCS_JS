{
 "cells": [
  {
   "cell_type": "markdown",
   "metadata": {},
   "source": [
    "# Day 5 Assignment"
   ]
  },
  {
   "cell_type": "code",
   "execution_count": 1,
   "metadata": {},
   "outputs": [
    {
     "name": "stdout",
     "output_type": "stream",
     "text": [
      "9\n",
      "[1, 2, 3, 4, 5, 6, 7, 8]\n",
      "[1, 4, 9, 16, 25, 36, 49, 64]\n",
      "{1: 1, 2: 4, 3: 9, 4: 16, 5: 25, 6: 36, 7: 49, 8: 64}\n"
     ]
    }
   ],
   "source": [
    "#Program to generate dictionary\n",
    "keys=[]\n",
    "values=[]\n",
    "dictionary={}\n",
    "def generate_dict():\n",
    "    number=int(input())\n",
    "    for i in range(1,number):\n",
    "        keys.append(i)\n",
    "        values.append(i*i)\n",
    "    print(keys)\n",
    "    print(values)\n",
    "    dictionary={keys[i]:values[i] for i in range(len(keys))}\n",
    "    print(dictionary)\n",
    "    \n",
    "        \n",
    "generate_dict()"
   ]
  },
  {
   "cell_type": "code",
   "execution_count": 1,
   "metadata": {},
   "outputs": [
    {
     "name": "stdout",
     "output_type": "stream",
     "text": [
      "[1, 2, 3, 4, 5, 6, 7, 8, 9, 10, 11, 12, 13, 14, 15, 16, 17, 18, 19, 20, 21, 22, 23, 24, 25, 26, 27, 28, 29, 30, 31, 32, 33, 34, 35, 36, 37, 38, 39, 40, 41, 42, 43, 44, 45, 46, 47, 48, 49, 50]\n",
      "Enter slicing range below : \n",
      "1\n",
      "7\n",
      "[2, 3, 4, 5, 6, 7]\n"
     ]
    }
   ],
   "source": [
    "#Program to get slice of an list\n",
    "lst=[]\n",
    "def get_slice():\n",
    "    for i in range(1,51):\n",
    "        lst.append(i)\n",
    "    print(lst)\n",
    "    print(\"Enter slicing range below : \")\n",
    "    a_i=int(input())\n",
    "    b_i=int(input())\n",
    "    print(lst[a_i:b_i]) \n",
    "    \n",
    "get_slice()"
   ]
  },
  {
   "cell_type": "code",
   "execution_count": null,
   "metadata": {},
   "outputs": [],
   "source": []
  }
 ],
 "metadata": {
  "kernelspec": {
   "display_name": "Python 3",
   "language": "python",
   "name": "python3"
  },
  "language_info": {
   "codemirror_mode": {
    "name": "ipython",
    "version": 3
   },
   "file_extension": ".py",
   "mimetype": "text/x-python",
   "name": "python",
   "nbconvert_exporter": "python",
   "pygments_lexer": "ipython3",
   "version": "3.7.6"
  }
 },
 "nbformat": 4,
 "nbformat_minor": 4
}
