{
 "cells": [
  {
   "cell_type": "markdown",
   "metadata": {},
   "source": [
    "# Execption handling in python"
   ]
  },
  {
   "cell_type": "code",
   "execution_count": 1,
   "metadata": {},
   "outputs": [
    {
     "name": "stdout",
     "output_type": "stream",
     "text": [
      "Enter value for a : 54\n",
      "Enter value for a : 2\n",
      "Sum =  56\n"
     ]
    }
   ],
   "source": [
    "#Simple program for file handling\n",
    "def print_sum():\n",
    "    try:\n",
    "        a=int(input(\"Enter value for a : \"))\n",
    "        b=int(input(\"Enter value for a : \"))\n",
    "        c=a+b\n",
    "        print(\"Sum = \",c)\n",
    "    except Exception:\n",
    "        print(\"E:Something is wrong\\nPlease enter numbers only...\")\n",
    "\n",
    "print_sum()"
   ]
  },
  {
   "cell_type": "code",
   "execution_count": 2,
   "metadata": {},
   "outputs": [
    {
     "name": "stdout",
     "output_type": "stream",
     "text": [
      "Enter value for a : 75\n",
      "Enter value for a : l\n",
      "<method 'with_traceback' of 'BaseException' objects>\n"
     ]
    }
   ],
   "source": [
    "def print_sum():\n",
    "    try:\n",
    "        a=int(input(\"Enter value for a : \"))\n",
    "        b=int(input(\"Enter value for a : \"))\n",
    "        c=a+b\n",
    "        print(\"Sum = \",c)\n",
    "    except Exception:\n",
    "        print(Exception.with_traceback)\n",
    "\n",
    "print_sum()"
   ]
  },
  {
   "cell_type": "markdown",
   "metadata": {},
   "source": [
    "# try-except"
   ]
  },
  {
   "cell_type": "code",
   "execution_count": 6,
   "metadata": {},
   "outputs": [
    {
     "name": "stdout",
     "output_type": "stream",
     "text": [
      "Enter a number45\n",
      "Enter another numberr\n",
      "E:Something is wrong\n",
      "Please enter valid inputs for  both numbers.\n",
      "Enter a number75\n",
      "Enter another number2\n",
      "Product =  150\n"
     ]
    }
   ],
   "source": [
    "#Demo\n",
    "def while_ex():\n",
    "    while True:\n",
    "        try:\n",
    "            a=int(input(\"Enter a number\"))\n",
    "            b=int(input(\"Enter another number\"))\n",
    "            c=a*b\n",
    "            print(\"Product = \",c)\n",
    "            break\n",
    "        except Exception:\n",
    "            print(\"E:Something is wrong\")\n",
    "            print(\"Please enter valid inputs for  both numbers.\")\n",
    "while_ex()"
   ]
  },
  {
   "cell_type": "markdown",
   "metadata": {},
   "source": [
    "# try-except-else"
   ]
  },
  {
   "cell_type": "code",
   "execution_count": 10,
   "metadata": {},
   "outputs": [
    {
     "name": "stdout",
     "output_type": "stream",
     "text": [
      "Enter a number54\n",
      "Enter another number2\n",
      "Product =  108\n"
     ]
    }
   ],
   "source": [
    "def while_ex():\n",
    "    try:\n",
    "        a=int(input(\"Enter a number\"))\n",
    "        b=int(input(\"Enter another number\"))\n",
    "        c=a*b\n",
    "    except Exception:\n",
    "        print(\"E:Something is wrong\")\n",
    "        print(\"Please enter valid inputs for  both numbers.\")\n",
    "    else:\n",
    "        print(\"Product = \",c)\n",
    "while_ex()"
   ]
  },
  {
   "cell_type": "code",
   "execution_count": 18,
   "metadata": {},
   "outputs": [
    {
     "name": "stdout",
     "output_type": "stream",
     "text": [
      "Enter digit between 0 - 9 : r\n",
      "E: Wrong inputs..\n"
     ]
    }
   ],
   "source": [
    "def demo_fun():\n",
    "    try:\n",
    "        a=int(input(\"Enter digit between 0 - 9 : \"))\n",
    "        y=100/a\n",
    "    except ValueError:\n",
    "        print(\"E: Wrong inputs..\")\n",
    "    except IndexError:\n",
    "        print(\"W: Please enter only digits between 0 -9!\")\n",
    "    except Exception:\n",
    "        print(\"W: Alphabets are not allowed\")\n",
    "    else:\n",
    "        print(\"Result = \",y)\n",
    "\n",
    "demo_fun()"
   ]
  },
  {
   "cell_type": "code",
   "execution_count": 19,
   "metadata": {},
   "outputs": [
    {
     "name": "stdout",
     "output_type": "stream",
     "text": [
      "Enter digit between 0 - 9 : p\n",
      "E: Wrong inputs..\n"
     ]
    }
   ],
   "source": [
    "def demo_fun():\n",
    "    try:\n",
    "        a=int(input(\"Enter digit between 0 - 9 : \"))\n",
    "        y=100/a\n",
    "    except (ValueError,ZeroDivisionError):\n",
    "        print(\"E: Wrong inputs..\")\n",
    "    else:\n",
    "        print(\"Result = \",y)\n",
    "\n",
    "demo_fun()"
   ]
  },
  {
   "cell_type": "markdown",
   "metadata": {},
   "source": [
    "# Try-finally"
   ]
  },
  {
   "cell_type": "code",
   "execution_count": 21,
   "metadata": {},
   "outputs": [
    {
     "name": "stdout",
     "output_type": "stream",
     "text": [
      "Enter digit between 0 - 9 : y\n",
      "E: Wrong inputs..\n",
      "Congrats, you reached to finally block\n"
     ]
    }
   ],
   "source": [
    "def demo_fun():\n",
    "    try:\n",
    "        a=int(input(\"Enter digit between 0 - 9 : \"))\n",
    "        y=100/a\n",
    "    except (ValueError,ZeroDivisionError):\n",
    "        print(\"E: Wrong inputs..\")\n",
    "    else:\n",
    "        print(\"Result = \",y)\n",
    "    finally:\n",
    "        print(\"Congrats, you reached to finally block\")\n",
    "\n",
    "demo_fun()"
   ]
  },
  {
   "cell_type": "code",
   "execution_count": null,
   "metadata": {},
   "outputs": [],
   "source": []
  }
 ],
 "metadata": {
  "kernelspec": {
   "display_name": "Python 3",
   "language": "python",
   "name": "python3"
  },
  "language_info": {
   "codemirror_mode": {
    "name": "ipython",
    "version": 3
   },
   "file_extension": ".py",
   "mimetype": "text/x-python",
   "name": "python",
   "nbconvert_exporter": "python",
   "pygments_lexer": "ipython3",
   "version": "3.7.6"
  }
 },
 "nbformat": 4,
 "nbformat_minor": 4
}
