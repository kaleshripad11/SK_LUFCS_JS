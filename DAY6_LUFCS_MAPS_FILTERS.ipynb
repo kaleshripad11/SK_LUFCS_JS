{
 "cells": [
  {
   "cell_type": "markdown",
   "metadata": {},
   "source": [
    "# LUFCS DAY 6 ASSIGNMENT"
   ]
  },
  {
   "cell_type": "code",
   "execution_count": null,
   "metadata": {},
   "outputs": [],
   "source": [
    "#set of hollow characters\n",
    "itemset={'A','B','D','O','P','Q','R'}\n",
    "\n",
    "#setting holes count=0\n",
    "count=0\n",
    "lst=input(\"Enter a string in captal only\")\n",
    "ls=[]\n",
    "#Traversing lst using loop to find hollow characters\n",
    "for i in lst:\n",
    "    if i in itemset:\n",
    "        if i == 'B':\n",
    "            count=count+2\n",
    "        else:\n",
    "            count=count+1\n",
    "            #ls[i]=lst[i]\n",
    "print(count)"
   ]
  },
  {
   "cell_type": "markdown",
   "metadata": {},
   "source": [
    "#  Map function Demo"
   ]
  },
  {
   "cell_type": "markdown",
   "metadata": {},
   "source": [
    "map(function,iterables)"
   ]
  },
  {
   "cell_type": "code",
   "execution_count": 1,
   "metadata": {},
   "outputs": [
    {
     "data": {
      "text/plain": [
       "81"
      ]
     },
     "execution_count": 1,
     "metadata": {},
     "output_type": "execute_result"
    }
   ],
   "source": [
    "#Without map\n",
    "def get_sqr(x):\n",
    "    return x*x\n",
    "get_sqr(9)"
   ]
  },
  {
   "cell_type": "code",
   "execution_count": 2,
   "metadata": {},
   "outputs": [
    {
     "name": "stdout",
     "output_type": "stream",
     "text": [
      "8100\n"
     ]
    }
   ],
   "source": [
    "def get_sqr(x):\n",
    "    return x*x\n",
    "sq=get_sqr(90)\n",
    "print(sq)"
   ]
  },
  {
   "cell_type": "code",
   "execution_count": 3,
   "metadata": {},
   "outputs": [
    {
     "name": "stdout",
     "output_type": "stream",
     "text": [
      "<map object at 0x7f9a7c675290>\n",
      "[1, 4, 9]\n"
     ]
    }
   ],
   "source": [
    "#With map() \n",
    "def get_sqr(x):\n",
    "    return x*x\n",
    "#to print the contents of map() we must use list object\n",
    "r=map(get_sqr,[1,2,3])\n",
    "print(r)\n",
    "print(list(r))     #o/p:- [1, 4, 9]"
   ]
  },
  {
   "cell_type": "code",
   "execution_count": 1,
   "metadata": {},
   "outputs": [
    {
     "name": "stdout",
     "output_type": "stream",
     "text": [
      "<map object at 0x7f24d0549150>\n",
      "(1, 4, 9)\n"
     ]
    }
   ],
   "source": [
    "#With map() \n",
    "def get_sqr(x):\n",
    "    return x*x\n",
    "#to print the contents of map() we must use list object\n",
    "r=map(get_sqr,[1,2,3])\n",
    "print(r)\n",
    "print(tuple(r))   #o/p:- (1, 4, 9)\n"
   ]
  },
  {
   "cell_type": "code",
   "execution_count": 2,
   "metadata": {},
   "outputs": [
    {
     "name": "stdout",
     "output_type": "stream",
     "text": [
      "<map object at 0x7f24d0549890>\n",
      "{1, 4, 9}\n"
     ]
    }
   ],
   "source": [
    "#With map() \n",
    "def get_sqr(x):\n",
    "    return x*x\n",
    "#to print the contents of map() we must use list object\n",
    "r=map(get_sqr,[1,2,3])\n",
    "print(r)\n",
    "print(set(r))     #o/p:- {1, 4, 9}"
   ]
  },
  {
   "cell_type": "code",
   "execution_count": 9,
   "metadata": {},
   "outputs": [
    {
     "name": "stdout",
     "output_type": "stream",
     "text": [
      "<class 'map'>\n",
      "[3, 8, 24, 36]\n"
     ]
    }
   ],
   "source": [
    "def x(a,b):\n",
    "    return a*b\n",
    "\n",
    "result = map(x, [1,2,3,4],[3,4,8,9])\n",
    "print(type(result))\n",
    "print(list(result))"
   ]
  },
  {
   "cell_type": "code",
   "execution_count": 11,
   "metadata": {},
   "outputs": [
    {
     "name": "stdout",
     "output_type": "stream",
     "text": [
      "[3, 4, 5]\n"
     ]
    }
   ],
   "source": [
    "def substraction(a,b):\n",
    "    return a-b\n",
    "print(list(map(substraction,[5,7,9],[2,3,4]))) #Composition of different methods"
   ]
  },
  {
   "cell_type": "markdown",
   "metadata": {},
   "source": [
    "# lambda are nameless functions"
   ]
  },
  {
   "cell_type": "code",
   "execution_count": 13,
   "metadata": {},
   "outputs": [
    {
     "data": {
      "text/plain": [
       "625"
      ]
     },
     "execution_count": 13,
     "metadata": {},
     "output_type": "execute_result"
    }
   ],
   "source": [
    "#lambda demo\n",
    "x = lambda z:z**4 # 'x' is acting like a variable \n",
    "x(5)              # but here 'x()' is a function because of 'lambda'"
   ]
  },
  {
   "cell_type": "code",
   "execution_count": 17,
   "metadata": {},
   "outputs": [
    {
     "name": "stdout",
     "output_type": "stream",
     "text": [
      "<function demo_lamda.<locals>.<lambda> at 0x7f9a7c5ec050>\n",
      "14\n"
     ]
    }
   ],
   "source": [
    "#lambda within user defined function\n",
    "def demo_lamda(s):\n",
    "    return lambda z:z+s\n",
    "a=demo_lamda(5)\n",
    "print(a)\n",
    "print(a(9))"
   ]
  },
  {
   "cell_type": "code",
   "execution_count": 5,
   "metadata": {},
   "outputs": [
    {
     "name": "stdout",
     "output_type": "stream",
     "text": [
      "8\n"
     ]
    }
   ],
   "source": [
    "#demo lambda funciton for addition\n",
    "y=lambda x : x+1\n",
    "\n",
    "print(y(7))"
   ]
  },
  {
   "cell_type": "code",
   "execution_count": 6,
   "metadata": {},
   "outputs": [
    {
     "name": "stdout",
     "output_type": "stream",
     "text": [
      "42\n"
     ]
    }
   ],
   "source": [
    "#lambda function for factorial\n",
    "fact=lambda n : n*(n-1)\n",
    "print(fact(7))"
   ]
  },
  {
   "cell_type": "code",
   "execution_count": 7,
   "metadata": {},
   "outputs": [
    {
     "name": "stdout",
     "output_type": "stream",
     "text": [
      "6\n"
     ]
    }
   ],
   "source": [
    "#write a lambda function to print multiplication of x and y\n",
    "multiply=lambda x,y:x*y\n",
    "print(multiply(2,3))"
   ]
  },
  {
   "cell_type": "code",
   "execution_count": null,
   "metadata": {},
   "outputs": [],
   "source": []
  }
 ],
 "metadata": {
  "kernelspec": {
   "display_name": "Python 3",
   "language": "python",
   "name": "python3"
  },
  "language_info": {
   "codemirror_mode": {
    "name": "ipython",
    "version": 3
   },
   "file_extension": ".py",
   "mimetype": "text/x-python",
   "name": "python",
   "nbconvert_exporter": "python",
   "pygments_lexer": "ipython3",
   "version": "3.7.6"
  }
 },
 "nbformat": 4,
 "nbformat_minor": 4
}
