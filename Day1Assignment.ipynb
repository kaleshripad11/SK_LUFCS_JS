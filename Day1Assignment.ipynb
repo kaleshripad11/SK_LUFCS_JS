{
 "cells": [
  {
   "cell_type": "markdown",
   "metadata": {},
   "source": [
    "# List and Its default functions"
   ]
  },
  {
   "cell_type": "code",
   "execution_count": 1,
   "metadata": {},
   "outputs": [
    {
     "name": "stdout",
     "output_type": "stream",
     "text": [
      "[2, 4, 7, 6, 5, 6]\n"
     ]
    }
   ],
   "source": [
    "list_demo=[2,4,7,6,5]\n",
    "list_demo.append(6)\n",
    "print(list_demo)"
   ]
  },
  {
   "cell_type": "code",
   "execution_count": 2,
   "metadata": {},
   "outputs": [
    {
     "name": "stdout",
     "output_type": "stream",
     "text": [
      "[2, 4, 7, 6, 5, 6]\n"
     ]
    }
   ],
   "source": [
    "demo_list=list_demo.copy()\n",
    "print(demo_list)"
   ]
  },
  {
   "cell_type": "code",
   "execution_count": 3,
   "metadata": {},
   "outputs": [
    {
     "name": "stdout",
     "output_type": "stream",
     "text": [
      "2\n"
     ]
    }
   ],
   "source": [
    "\n",
    "print(demo_list.count(6))"
   ]
  },
  {
   "cell_type": "code",
   "execution_count": 4,
   "metadata": {},
   "outputs": [
    {
     "name": "stdout",
     "output_type": "stream",
     "text": [
      "4\n"
     ]
    }
   ],
   "source": [
    "print(demo_list.index(5))"
   ]
  },
  {
   "cell_type": "code",
   "execution_count": 5,
   "metadata": {},
   "outputs": [
    {
     "name": "stdout",
     "output_type": "stream",
     "text": [
      "[2, 4, 7, 6, 5, 6, 20, 30, 40]\n"
     ]
    }
   ],
   "source": [
    "new_list=[20,30,40]\n",
    "demo_list.extend(new_list)\n",
    "print(demo_list)"
   ]
  },
  {
   "cell_type": "code",
   "execution_count": 6,
   "metadata": {},
   "outputs": [
    {
     "name": "stdout",
     "output_type": "stream",
     "text": [
      "[2, 4, 5, 6, 6, 7, 20, 30, 40]\n"
     ]
    }
   ],
   "source": [
    "demo_list.sort()\n",
    "print(demo_list)"
   ]
  },
  {
   "cell_type": "code",
   "execution_count": 7,
   "metadata": {},
   "outputs": [
    {
     "name": "stdout",
     "output_type": "stream",
     "text": [
      "[40, 30, 20, 7, 6, 6, 5, 4, 2]\n"
     ]
    }
   ],
   "source": [
    "demo_list.reverse()\n",
    "print(demo_list)"
   ]
  },
  {
   "cell_type": "code",
   "execution_count": 8,
   "metadata": {},
   "outputs": [
    {
     "name": "stdout",
     "output_type": "stream",
     "text": [
      "[40, 30, 20, 7, 6, 6, 5, 4]\n"
     ]
    }
   ],
   "source": [
    "demo_list.pop()\n",
    "print(demo_list)"
   ]
  },
  {
   "cell_type": "code",
   "execution_count": 9,
   "metadata": {},
   "outputs": [
    {
     "name": "stdout",
     "output_type": "stream",
     "text": [
      "[40, 30, 20, 6, 6, 5, 4]\n"
     ]
    }
   ],
   "source": [
    "demo_list.remove(7)\n",
    "print(demo_list)"
   ]
  },
  {
   "cell_type": "code",
   "execution_count": 10,
   "metadata": {},
   "outputs": [
    {
     "name": "stdout",
     "output_type": "stream",
     "text": [
      "[]\n"
     ]
    }
   ],
   "source": [
    "demo_list.clear()\n",
    "print(demo_list)"
   ]
  },
  {
   "cell_type": "markdown",
   "metadata": {},
   "source": [
    "# Dictionary and Its default functions"
   ]
  },
  {
   "cell_type": "code",
   "execution_count": 11,
   "metadata": {},
   "outputs": [
    {
     "name": "stdout",
     "output_type": "stream",
     "text": [
      "{'C': 'DennisRitchie', 'CPP': 'BJarneStroustrup', 'C#': 'AndersHejlsberg', 'Java': 'JamesGosling', 'Python': 'GuidoVanRossum'}\n"
     ]
    }
   ],
   "source": [
    "programmers={\"C\":\"DennisRitchie\",\"CPP\":\"BJarneStroustrup\",\"C#\":\"AndersHejlsberg\",\"Java\":\"JamesGosling\",\"Python\":\"GuidoVanRossum\"}\n",
    "print(programmers)"
   ]
  },
  {
   "cell_type": "code",
   "execution_count": 12,
   "metadata": {},
   "outputs": [
    {
     "name": "stdout",
     "output_type": "stream",
     "text": [
      "dict_values(['DennisRitchie', 'BJarneStroustrup', 'AndersHejlsberg', 'JamesGosling', 'GuidoVanRossum'])\n"
     ]
    }
   ],
   "source": [
    "#values() returns only values from a dictionary\n",
    "print(programmers.values())"
   ]
  },
  {
   "cell_type": "code",
   "execution_count": 13,
   "metadata": {},
   "outputs": [
    {
     "name": "stdout",
     "output_type": "stream",
     "text": [
      "DennisRitchie\n"
     ]
    }
   ],
   "source": [
    "print(programmers.get(\"C\"))#get() returns the value associated with specified key"
   ]
  },
  {
   "cell_type": "code",
   "execution_count": 14,
   "metadata": {},
   "outputs": [
    {
     "name": "stdout",
     "output_type": "stream",
     "text": [
      "dict_items([('C', 'DennisRitchie'), ('CPP', 'BJarneStroustrup'), ('C#', 'AndersHejlsberg'), ('Java', 'JamesGosling'), ('Python', 'GuidoVanRossum')])\n"
     ]
    }
   ],
   "source": [
    "print(programmers.items())#items() returns complete dictionary"
   ]
  },
  {
   "cell_type": "code",
   "execution_count": 15,
   "metadata": {},
   "outputs": [
    {
     "name": "stdout",
     "output_type": "stream",
     "text": [
      "AndersHejlsberg\n"
     ]
    }
   ],
   "source": [
    "print(programmers.pop(\"C#\"))#pop() removes the specified Key Item"
   ]
  },
  {
   "cell_type": "code",
   "execution_count": 16,
   "metadata": {},
   "outputs": [
    {
     "name": "stdout",
     "output_type": "stream",
     "text": [
      "('Python', 'GuidoVanRossum')\n"
     ]
    }
   ],
   "source": [
    "print(programmers.popitem())#popitem() removes the last entered element from the dictionary"
   ]
  },
  {
   "cell_type": "code",
   "execution_count": 17,
   "metadata": {},
   "outputs": [
    {
     "name": "stdout",
     "output_type": "stream",
     "text": [
      "ABC\n"
     ]
    }
   ],
   "source": [
    "print(programmers.setdefault('Javascript','ABC'))#setdefault() sets default key-value pair for a dictionary"
   ]
  },
  {
   "cell_type": "code",
   "execution_count": 18,
   "metadata": {},
   "outputs": [
    {
     "name": "stdout",
     "output_type": "stream",
     "text": [
      "None\n"
     ]
    }
   ],
   "source": [
    "#update() updates or add key-value pair\n",
    "print(programmers.update({'C#':'AndersHejlsberg','Python':'GuidoVanRossum'}))"
   ]
  },
  {
   "cell_type": "code",
   "execution_count": 19,
   "metadata": {},
   "outputs": [
    {
     "name": "stdout",
     "output_type": "stream",
     "text": [
      "{'C': 'DennisRitchie', 'CPP': 'BJarneStroustrup', 'Java': 'JamesGosling', 'Javascript': 'ABC', 'C#': 'AndersHejlsberg', 'Python': 'GuidoVanRossum'}\n"
     ]
    }
   ],
   "source": [
    "#copy() copies one dictionary contents to another\n",
    "programming=programmers.copy()\n",
    "print(programming)"
   ]
  },
  {
   "cell_type": "code",
   "execution_count": 20,
   "metadata": {},
   "outputs": [
    {
     "name": "stdout",
     "output_type": "stream",
     "text": [
      "None\n"
     ]
    }
   ],
   "source": [
    "#clear() clears the content of dictionary\n",
    "print(programming.clear())"
   ]
  },
  {
   "cell_type": "code",
   "execution_count": 21,
   "metadata": {},
   "outputs": [
    {
     "name": "stdout",
     "output_type": "stream",
     "text": [
      "dict_keys(['C', 'CPP', 'Java', 'Javascript', 'C#', 'Python'])\n"
     ]
    }
   ],
   "source": [
    "#keys() returns all the keys from dictionary\n",
    "print(programmers.keys())\n"
   ]
  },
  {
   "cell_type": "code",
   "execution_count": 22,
   "metadata": {},
   "outputs": [
    {
     "name": "stdout",
     "output_type": "stream",
     "text": [
      "{'JamesGosling': 'Java', 'PatrickNoughton': 'Java'}\n"
     ]
    }
   ],
   "source": [
    "#fromKeys() returns the dictionary with specified keys and values\n",
    "dictkeys=('JamesGosling','PatrickNoughton')\n",
    "dictvals=('Java')\n",
    "demo=programmers.fromkeys(dictkeys,dictvals)\n",
    "print(demo)"
   ]
  },
  {
   "cell_type": "markdown",
   "metadata": {},
   "source": [
    "# Sets in python"
   ]
  },
  {
   "cell_type": "code",
   "execution_count": 23,
   "metadata": {},
   "outputs": [
    {
     "name": "stdout",
     "output_type": "stream",
     "text": [
      "{0, 1, 2, 3, 4, 5, 6, 7, 8, 9}      {2, 3, 4, 5, 7}\n"
     ]
    }
   ],
   "source": [
    "#An ordered collection of unique elements is known as set\n",
    "setz={8,5,4,7,6,3,1,2,9,0}\n",
    "sety={2,3,5,7,4}\n",
    "print(setz,\"    \",sety)"
   ]
  },
  {
   "cell_type": "code",
   "execution_count": 24,
   "metadata": {},
   "outputs": [
    {
     "name": "stdout",
     "output_type": "stream",
     "text": [
      "{0, 1, 2, 3, 4, 5, 6, 7, 8, 9, 11}\n"
     ]
    }
   ],
   "source": [
    "setz.add(11)\n",
    "print(setz)"
   ]
  },
  {
   "cell_type": "code",
   "execution_count": 25,
   "metadata": {},
   "outputs": [
    {
     "name": "stdout",
     "output_type": "stream",
     "text": [
      "{2, 3, 4, 5, 7}\n"
     ]
    }
   ],
   "source": [
    "setz=set.difference(sety)\n",
    "print(setz)"
   ]
  },
  {
   "cell_type": "code",
   "execution_count": 26,
   "metadata": {},
   "outputs": [
    {
     "name": "stdout",
     "output_type": "stream",
     "text": [
      "None\n"
     ]
    }
   ],
   "source": [
    "u=setz.difference_update(sety)\n",
    "print(u)"
   ]
  },
  {
   "cell_type": "code",
   "execution_count": 27,
   "metadata": {},
   "outputs": [
    {
     "name": "stdout",
     "output_type": "stream",
     "text": [
      "set()\n"
     ]
    }
   ],
   "source": [
    "z=setz.intersection(sety)\n",
    "print(z)"
   ]
  },
  {
   "cell_type": "code",
   "execution_count": 28,
   "metadata": {},
   "outputs": [
    {
     "data": {
      "text/plain": [
       "True"
      ]
     },
     "execution_count": 28,
     "metadata": {},
     "output_type": "execute_result"
    }
   ],
   "source": [
    "setz.isdisjoint(sety)\n",
    "#print(setz)"
   ]
  },
  {
   "cell_type": "code",
   "execution_count": 29,
   "metadata": {},
   "outputs": [
    {
     "data": {
      "text/plain": [
       "False"
      ]
     },
     "execution_count": 29,
     "metadata": {},
     "output_type": "execute_result"
    }
   ],
   "source": [
    "sety.issubset(setz)"
   ]
  },
  {
   "cell_type": "code",
   "execution_count": 30,
   "metadata": {},
   "outputs": [
    {
     "data": {
      "text/plain": [
       "False"
      ]
     },
     "execution_count": 30,
     "metadata": {},
     "output_type": "execute_result"
    }
   ],
   "source": [
    "setz.issuperset(sety)"
   ]
  },
  {
   "cell_type": "code",
   "execution_count": 31,
   "metadata": {},
   "outputs": [
    {
     "name": "stdout",
     "output_type": "stream",
     "text": [
      "set()\n"
     ]
    }
   ],
   "source": [
    "setz.symmetric_difference(sety)\n",
    "print(setz)"
   ]
  },
  {
   "cell_type": "code",
   "execution_count": 32,
   "metadata": {},
   "outputs": [
    {
     "name": "stdout",
     "output_type": "stream",
     "text": [
      "{2, 3, 4, 5}\n"
     ]
    }
   ],
   "source": [
    "sety.discard(7)\n",
    "print(sety)"
   ]
  },
  {
   "cell_type": "code",
   "execution_count": 33,
   "metadata": {},
   "outputs": [
    {
     "ename": "KeyError",
     "evalue": "0",
     "output_type": "error",
     "traceback": [
      "\u001b[0;31m---------------------------------------------------------------------------\u001b[0m",
      "\u001b[0;31mKeyError\u001b[0m                                  Traceback (most recent call last)",
      "\u001b[0;32m<ipython-input-33-49722f55dd8b>\u001b[0m in \u001b[0;36m<module>\u001b[0;34m\u001b[0m\n\u001b[0;32m----> 1\u001b[0;31m \u001b[0msetz\u001b[0m\u001b[0;34m.\u001b[0m\u001b[0mremove\u001b[0m\u001b[0;34m(\u001b[0m\u001b[0;36m0\u001b[0m\u001b[0;34m)\u001b[0m\u001b[0;34m\u001b[0m\u001b[0;34m\u001b[0m\u001b[0m\n\u001b[0m\u001b[1;32m      2\u001b[0m \u001b[0mprint\u001b[0m\u001b[0;34m(\u001b[0m\u001b[0msetz\u001b[0m\u001b[0;34m)\u001b[0m\u001b[0;34m\u001b[0m\u001b[0;34m\u001b[0m\u001b[0m\n",
      "\u001b[0;31mKeyError\u001b[0m: 0"
     ]
    }
   ],
   "source": [
    "setz.remove(0)\n",
    "print(setz)"
   ]
  },
  {
   "cell_type": "code",
   "execution_count": null,
   "metadata": {},
   "outputs": [],
   "source": [
    "s={78,45,32}\n",
    "setz.union(s)"
   ]
  },
  {
   "cell_type": "code",
   "execution_count": null,
   "metadata": {},
   "outputs": [],
   "source": [
    "setz.pop()"
   ]
  },
  {
   "cell_type": "code",
   "execution_count": null,
   "metadata": {},
   "outputs": [],
   "source": []
  }
 ],
 "metadata": {
  "kernelspec": {
   "display_name": "Python 3",
   "language": "python",
   "name": "python3"
  },
  "language_info": {
   "codemirror_mode": {
    "name": "ipython",
    "version": 3
   },
   "file_extension": ".py",
   "mimetype": "text/x-python",
   "name": "python",
   "nbconvert_exporter": "python",
   "pygments_lexer": "ipython3",
   "version": "3.7.6"
  }
 },
 "nbformat": 4,
 "nbformat_minor": 4
}
