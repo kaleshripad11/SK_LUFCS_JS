{
 "cells": [
  {
   "cell_type": "code",
   "execution_count": 29,
   "metadata": {},
   "outputs": [
    {
     "name": "stdout",
     "output_type": "stream",
     "text": [
      "21\n"
     ]
    }
   ],
   "source": [
    "#range() demo\n",
    "sums=0\n",
    "for i in range(7):\n",
    "    sums=sums+i\n",
    "print(sums)"
   ]
  },
  {
   "cell_type": "markdown",
   "metadata": {},
   "source": [
    "# range() demo\n",
    "s=int(input(\"Enter a digit :\"))\n",
    "sum=0\n",
    "for i in range(s):\n",
    "    sum=sum+i\n",
    "    print(sum,end=\"  \")\n",
    "print()\n",
    "print(\"Sum = \",sum)"
   ]
  },
  {
   "cell_type": "code",
   "execution_count": 3,
   "metadata": {},
   "outputs": [
    {
     "name": "stdout",
     "output_type": "stream",
     "text": [
      "25\t26\t27\t28\t29\t30\t31\t"
     ]
    }
   ],
   "source": [
    "#range() demo\n",
    "sums=0\n",
    "for i in range(25,32):\n",
    "    #sums=sums+i\n",
    "    print(i,end=\"\\t\")\n"
   ]
  },
  {
   "cell_type": "code",
   "execution_count": 4,
   "metadata": {},
   "outputs": [
    {
     "name": "stdout",
     "output_type": "stream",
     "text": [
      "25 32 "
     ]
    }
   ],
   "source": [
    "#range() demo\n",
    "sums=0\n",
    "for i in range(25,33,7):\n",
    "    #sums=sums+i\n",
    "    print(i,end=\" \")"
   ]
  },
  {
   "cell_type": "code",
   "execution_count": 5,
   "metadata": {},
   "outputs": [
    {
     "data": {
      "text/plain": [
       "1.3979400086720377"
      ]
     },
     "execution_count": 5,
     "metadata": {},
     "output_type": "execute_result"
    }
   ],
   "source": [
    "import math as mth\n",
    "mth.factorial(5)\n",
    "mth.log10(25)"
   ]
  },
  {
   "cell_type": "code",
   "execution_count": 6,
   "metadata": {},
   "outputs": [
    {
     "name": "stdout",
     "output_type": "stream",
     "text": [
      "\n",
      "$ \n",
      "$ $ \n",
      "$ $ $ \n",
      "$ $ $ $ \n"
     ]
    }
   ],
   "source": [
    "#Printing pattern\n",
    "# $ \n",
    "# $ $ \n",
    "# $ $ $ \n",
    "# $ $ $ $ \n",
    "for i in range(5):\n",
    "    for j in range(i):\n",
    "        print(\"$\", end=\" \")\n",
    "    print()"
   ]
  },
  {
   "cell_type": "code",
   "execution_count": 23,
   "metadata": {},
   "outputs": [
    {
     "name": "stdout",
     "output_type": "stream",
     "text": [
      "\n",
      "\n",
      "\n",
      "\n",
      "\n"
     ]
    }
   ],
   "source": [
    "#Print reverse pattern\n",
    "# $ $ $ $\n",
    "#   $ $ $\n",
    "#     $ $\n",
    "#       $\n",
    "for i in range(0,5):\n",
    "    for j in range(5,0):\n",
    "        print(\"o\",end=\" \")\n",
    "    print()"
   ]
  },
  {
   "cell_type": "code",
   "execution_count": 24,
   "metadata": {},
   "outputs": [
    {
     "name": "stdout",
     "output_type": "stream",
     "text": [
      "1\n",
      "2\n",
      "3\n"
     ]
    }
   ],
   "source": [
    "#Break demo\n",
    "n=(1,2,3,4,5)\n",
    "for i in n:\n",
    "    if(i==4):\n",
    "        break\n",
    "    print(i)"
   ]
  },
  {
   "cell_type": "code",
   "execution_count": 25,
   "metadata": {},
   "outputs": [
    {
     "name": "stdout",
     "output_type": "stream",
     "text": [
      "1\n",
      "2\n",
      "3\n",
      "5\n"
     ]
    }
   ],
   "source": [
    "#continue demo\n",
    "#loops=for,while\n",
    "n=(1,2,3,4,5)\n",
    "for i in n:\n",
    "    if(i==4):\n",
    "        continue\n",
    "    print(i)"
   ]
  },
  {
   "cell_type": "code",
   "execution_count": 26,
   "metadata": {},
   "outputs": [
    {
     "name": "stdout",
     "output_type": "stream",
     "text": [
      "1\n",
      "2\n",
      "3\n",
      "4\n",
      "5\n"
     ]
    }
   ],
   "source": [
    "n=(1,2,3,4,5,\"ss\",7)\n",
    "for i in n:\n",
    "    if(i==\"ss\"):\n",
    "        break\n",
    "    print(i)"
   ]
  },
  {
   "cell_type": "markdown",
   "metadata": {},
   "source": [
    "# Functions in python"
   ]
  },
  {
   "cell_type": "markdown",
   "metadata": {},
   "source": [
    "#Math functions"
   ]
  },
  {
   "cell_type": "code",
   "execution_count": 38,
   "metadata": {},
   "outputs": [
    {
     "name": "stdout",
     "output_type": "stream",
     "text": [
      "1.373400766945016\n"
     ]
    }
   ],
   "source": [
    "#Built in functions\n",
    "import math\n",
    "print(math.atan(5))"
   ]
  },
  {
   "cell_type": "code",
   "execution_count": 37,
   "metadata": {
    "scrolled": true
   },
   "outputs": [
    {
     "name": "stdout",
     "output_type": "stream",
     "text": [
      "<class 'int'>\n"
     ]
    }
   ],
   "source": [
    "#Function composition :- Function inside another function\n",
    "#example of composition\n",
    "print(type(34))"
   ]
  },
  {
   "cell_type": "code",
   "execution_count": 41,
   "metadata": {},
   "outputs": [
    {
     "name": "stdout",
     "output_type": "stream",
     "text": [
      "This is an user defined function\n",
      "named as 'demoFun()'\n",
      "This is an user defined function\n",
      "named as 'demoFun()'\n",
      "This is an user defined function\n",
      "named as 'demoFun()'\n"
     ]
    }
   ],
   "source": [
    "#User defined functions\n",
    "#\"def\" keyword is used\n",
    "def demoFun():\n",
    "    print(\"This is an user defined function\")\n",
    "    print(\"named as 'demoFun()'\")\n",
    "\n",
    "#Calling the function\n",
    "#demoFun()\n",
    "for i in range(3):\n",
    "    demoFun()                "
   ]
  },
  {
   "cell_type": "code",
   "execution_count": 44,
   "metadata": {},
   "outputs": [
    {
     "name": "stdout",
     "output_type": "stream",
     "text": [
      "Both functions\n",
      "This is an user defined function\n",
      "named as 'demoFun()'\n",
      "This is another fun\n"
     ]
    }
   ],
   "source": [
    "#User defined functions\n",
    "#\"def\" keyword is used\n",
    "def demoFun():\n",
    "    print(\"This is an user defined function\")\n",
    "    print(\"named as 'demoFun()'\")\n",
    "\n",
    "def new_fun():\n",
    "    demoFun()\n",
    "    print(\"This is another fun\")\n",
    "\n",
    "print(\"Both functions\")\n",
    "#Calling the function\n",
    "#demoFun()\n",
    "new_fun()     "
   ]
  },
  {
   "cell_type": "code",
   "execution_count": 46,
   "metadata": {},
   "outputs": [
    {
     "name": "stdout",
     "output_type": "stream",
     "text": [
      "hello\n",
      "22\n"
     ]
    }
   ],
   "source": [
    "#Printing arithmatics using functions\n",
    "def demo(z):\n",
    "    print(z)\n",
    "\n",
    "demo(\"hello\")\n",
    "demo(22)"
   ]
  },
  {
   "cell_type": "code",
   "execution_count": 52,
   "metadata": {},
   "outputs": [
    {
     "data": {
      "text/plain": [
       "198"
      ]
     },
     "execution_count": 52,
     "metadata": {},
     "output_type": "execute_result"
    }
   ],
   "source": [
    "#Printing arithmatics using functions using return()\n",
    "def demo(z):\n",
    "    z=z*9\n",
    "    return z\n",
    "\n",
    "demo(22)"
   ]
  },
  {
   "cell_type": "code",
   "execution_count": 53,
   "metadata": {},
   "outputs": [
    {
     "name": "stdout",
     "output_type": "stream",
     "text": [
      "True\n",
      "hi==hi\n",
      "False\n",
      "True\n",
      "<class 'bool'>\n"
     ]
    }
   ],
   "source": [
    "#Some remaining things from day3\n",
    "print(5==5)\n",
    "print(\"hi==hi\")\n",
    "print('h'=='H')\n",
    "print('Hey'=='Hey')\n",
    "print(type(False))"
   ]
  },
  {
   "cell_type": "code",
   "execution_count": 59,
   "metadata": {},
   "outputs": [
    {
     "name": "stdout",
     "output_type": "stream",
     "text": [
      "Shripad Kale\n"
     ]
    }
   ],
   "source": [
    "#Global and local variables\n",
    "def print_name(fname,lname):\n",
    "    fullname=fname+\" \"+lname\n",
    "    print(fullname)\n",
    "    #return fullname\n",
    "\n",
    "#Global variables\n",
    "first_name=\"Shripad\"\n",
    "last_name=\"Kale\"\n",
    "print_name(first_name,last_name)\n",
    "#print(fullname)"
   ]
  }
 ],
 "metadata": {
  "kernelspec": {
   "display_name": "Python 3",
   "language": "python",
   "name": "python3"
  },
  "language_info": {
   "codemirror_mode": {
    "name": "ipython",
    "version": 3
   },
   "file_extension": ".py",
   "mimetype": "text/x-python",
   "name": "python",
   "nbconvert_exporter": "python",
   "pygments_lexer": "ipython3",
   "version": "3.7.6"
  }
 },
 "nbformat": 4,
 "nbformat_minor": 4
}
