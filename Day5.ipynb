{
 "cells": [
  {
   "cell_type": "markdown",
   "metadata": {},
   "source": [
    "# Taking inputs from users"
   ]
  },
  {
   "cell_type": "code",
   "execution_count": 1,
   "metadata": {},
   "outputs": [
    {
     "name": "stdout",
     "output_type": "stream",
     "text": [
      "Enter something -->  45\n",
      "45\n"
     ]
    }
   ],
   "source": [
    "#Simple code to get and print input\n",
    "print(\"Enter something --> \", end=\" \")\n",
    "my_var=input()\n",
    "print(my_var)"
   ]
  },
  {
   "cell_type": "code",
   "execution_count": 2,
   "metadata": {},
   "outputs": [
    {
     "name": "stdout",
     "output_type": "stream",
     "text": [
      "54\n",
      "78\n",
      "5478\n"
     ]
    }
   ],
   "source": [
    "#Simple code to perform addition without typecasting\n",
    "a=input()\n",
    "b=input()\n",
    "c=a+b\n",
    "print(c)"
   ]
  },
  {
   "cell_type": "code",
   "execution_count": 3,
   "metadata": {},
   "outputs": [
    {
     "name": "stdout",
     "output_type": "stream",
     "text": [
      "54\n",
      "78\n",
      "132\n"
     ]
    }
   ],
   "source": [
    "#Addition with typecasting of input\n",
    "a=int(input())\n",
    "b=int(input())\n",
    "c=a+b\n",
    "print(c)"
   ]
  },
  {
   "cell_type": "code",
   "execution_count": 4,
   "metadata": {},
   "outputs": [
    {
     "name": "stdout",
     "output_type": "stream",
     "text": [
      "Enter a: 54\n",
      "Enter b: 78\n",
      "Enter c: 6\n",
      "Average of a,b,c --->    46.0\n"
     ]
    }
   ],
   "source": [
    "#Simple program to print average of 3 numbers\n",
    "a=int(input(\"Enter a: \"))\n",
    "b=int(input(\"Enter b: \"))\n",
    "c=int(input(\"Enter c: \"))\n",
    "print(\"Average of a,b,c --->   \",(a+b+c)/3)"
   ]
  },
  {
   "cell_type": "code",
   "execution_count": 5,
   "metadata": {},
   "outputs": [
    {
     "name": "stdout",
     "output_type": "stream",
     "text": [
      "Average of 3 digits is =  14.0\n"
     ]
    }
   ],
   "source": [
    "#Finding average of 3 numbers using functions\n",
    "def cal_avg(a,b,c):\n",
    "    print(\"Average of 3 digits is = \",(a+b+c)/3)\n",
    "\n",
    "\n",
    "cal_avg(10,25,7)"
   ]
  },
  {
   "cell_type": "code",
   "execution_count": 6,
   "metadata": {},
   "outputs": [
    {
     "name": "stdout",
     "output_type": "stream",
     "text": [
      "Average of 3 digits is =  39.0\n"
     ]
    }
   ],
   "source": [
    "#Calculating average with default arguments\n",
    "def cal_avg(a=25,b=45,c=10):\n",
    "    print(\"Average of 3 digits is = \",(a+b+c)/3)\n",
    "\n",
    "cal_avg(b=25,c=67)"
   ]
  },
  {
   "cell_type": "markdown",
   "metadata": {},
   "source": [
    "# Strings\n",
    "# String is a collection or sequence of characters"
   ]
  },
  {
   "cell_type": "code",
   "execution_count": 7,
   "metadata": {},
   "outputs": [
    {
     "name": "stdout",
     "output_type": "stream",
     "text": [
      "<class 'str'>\n"
     ]
    },
    {
     "data": {
      "text/plain": [
       "str"
      ]
     },
     "execution_count": 7,
     "metadata": {},
     "output_type": "execute_result"
    }
   ],
   "source": [
    "string=\"Hello World\"\n",
    "print(type(string))\n",
    "type(string)"
   ]
  },
  {
   "cell_type": "code",
   "execution_count": 8,
   "metadata": {},
   "outputs": [
    {
     "name": "stdout",
     "output_type": "stream",
     "text": [
      "r\n",
      "o\n"
     ]
    }
   ],
   "source": [
    "print(string[8])\n",
    "print(string[-4])"
   ]
  },
  {
   "cell_type": "code",
   "execution_count": 9,
   "metadata": {},
   "outputs": [
    {
     "name": "stdout",
     "output_type": "stream",
     "text": [
      "Hel\n",
      "o World\n",
      "o Wor\n",
      "ello Wo\n",
      "dlroW olleH\n"
     ]
    }
   ],
   "source": [
    "print(string[:3])\n",
    "print(string[4:])\n",
    "print(string[4:-2])\n",
    "print(string[-10:-3])\n",
    "print(string[::-1])#Simply reverses the string"
   ]
  },
  {
   "cell_type": "code",
   "execution_count": 10,
   "metadata": {},
   "outputs": [
    {
     "name": "stdout",
     "output_type": "stream",
     "text": [
      "Hello WorldMachine Learning\n",
      "ShreeShree\n",
      "mACHINE lEARNING\n",
      "Hello world\n",
      "MACHINE LEARNING\n",
      "machine learning\n",
      "r\n",
      "S\n",
      "False\n",
      "23\n",
      "Hey there, how are you@\n"
     ]
    }
   ],
   "source": [
    "s1=\"Hello World\"\n",
    "s2=\"Machine Learning\"\n",
    "s3=\"Shree\"\n",
    "print(s1+s2)\n",
    "print(s3*2)\n",
    "print(s2.swapcase())\n",
    "print(s1.capitalize())\n",
    "print(s2.upper())\n",
    "print(s2.lower())\n",
    "print(max(s3))\n",
    "print(min(s3))\n",
    "print(s1.isdigit())\n",
    "s4=\"Hey there, how are you?\"\n",
    "print(len(s4))\n",
    "print(s4.replace('?','@'))"
   ]
  },
  {
   "cell_type": "code",
   "execution_count": 11,
   "metadata": {},
   "outputs": [
    {
     "data": {
      "text/plain": [
       "True"
      ]
     },
     "execution_count": 11,
     "metadata": {},
     "output_type": "execute_result"
    }
   ],
   "source": [
    "#Membership Operators - in, not in\n",
    "s=\"Shripad\"\n",
    "'r' in s"
   ]
  },
  {
   "cell_type": "code",
   "execution_count": 12,
   "metadata": {},
   "outputs": [
    {
     "data": {
      "text/plain": [
       "True"
      ]
     },
     "execution_count": 12,
     "metadata": {},
     "output_type": "execute_result"
    }
   ],
   "source": [
    "#Membership Operators - in, not in\n",
    "s=\"Shripad\"\n",
    "'z' not in s"
   ]
  },
  {
   "cell_type": "code",
   "execution_count": 13,
   "metadata": {},
   "outputs": [
    {
     "name": "stdout",
     "output_type": "stream",
     "text": [
      "S h r i p a d "
     ]
    }
   ],
   "source": [
    "for i in s:\n",
    "    print(i,end=\" \")"
   ]
  },
  {
   "cell_type": "code",
   "execution_count": 14,
   "metadata": {},
   "outputs": [
    {
     "name": "stdout",
     "output_type": "stream",
     "text": [
      "eeipad\n"
     ]
    }
   ],
   "source": [
    "s=\"Shripad\"\n",
    "#In below we are simply slicing the existing string and concatinating it with 'ee'\n",
    "#without changing the original string\n",
    "s='ee' +s[3:]\n",
    "print(s)"
   ]
  },
  {
   "cell_type": "code",
   "execution_count": 15,
   "metadata": {},
   "outputs": [
    {
     "ename": "TypeError",
     "evalue": "'str' object does not support item assignment",
     "output_type": "error",
     "traceback": [
      "\u001b[0;31m---------------------------------------------------------------------------\u001b[0m",
      "\u001b[0;31mTypeError\u001b[0m                                 Traceback (most recent call last)",
      "\u001b[0;32m<ipython-input-15-fa36822dca44>\u001b[0m in \u001b[0;36m<module>\u001b[0;34m\u001b[0m\n\u001b[1;32m      1\u001b[0m \u001b[0;31m#Strings are immutable(You cant change the contents of it)\u001b[0m\u001b[0;34m\u001b[0m\u001b[0;34m\u001b[0m\u001b[0;34m\u001b[0m\u001b[0m\n\u001b[1;32m      2\u001b[0m \u001b[0ms\u001b[0m\u001b[0;34m[\u001b[0m\u001b[0;36m3\u001b[0m\u001b[0;34m]\u001b[0m\u001b[0;34m\u001b[0m\u001b[0;34m\u001b[0m\u001b[0m\n\u001b[0;32m----> 3\u001b[0;31m \u001b[0ms\u001b[0m\u001b[0;34m[\u001b[0m\u001b[0;36m3\u001b[0m\u001b[0;34m]\u001b[0m\u001b[0;34m=\u001b[0m\u001b[0;34m'ee'\u001b[0m  \u001b[0;31m#Will throw an error as we are changing contents of string s\u001b[0m\u001b[0;34m\u001b[0m\u001b[0;34m\u001b[0m\u001b[0m\n\u001b[0m",
      "\u001b[0;31mTypeError\u001b[0m: 'str' object does not support item assignment"
     ]
    }
   ],
   "source": [
    "#Strings are immutable(You cant change the contents of it)\n",
    "s[3]\n",
    "s[3]='ee'  #Will throw an error as we are changing contents of string s"
   ]
  },
  {
   "cell_type": "code",
   "execution_count": null,
   "metadata": {},
   "outputs": [],
   "source": [
    "#Find() in strings \n",
    "strz=\"Master of Computer Applications\"\n",
    "strz.find('s') #Will print the first occurance of character from left to right"
   ]
  },
  {
   "cell_type": "code",
   "execution_count": null,
   "metadata": {},
   "outputs": [],
   "source": [
    "#Find(string,begin,end) in strings \n",
    "strz=\"Master of Computer Applications\"\n",
    "strz.find('o',12,30) #Will print the first occurance of character from left to right"
   ]
  },
  {
   "cell_type": "code",
   "execution_count": null,
   "metadata": {},
   "outputs": [],
   "source": [
    "s3.isalpha()"
   ]
  },
  {
   "cell_type": "code",
   "execution_count": null,
   "metadata": {},
   "outputs": [],
   "source": [
    "s5=\"example@gmail.com\"\n",
    "s5.isalpha()"
   ]
  },
  {
   "cell_type": "code",
   "execution_count": null,
   "metadata": {},
   "outputs": [],
   "source": [
    "s5.isalnum()"
   ]
  },
  {
   "cell_type": "code",
   "execution_count": null,
   "metadata": {},
   "outputs": [],
   "source": [
    "s5.isdigit()"
   ]
  },
  {
   "cell_type": "code",
   "execution_count": null,
   "metadata": {},
   "outputs": [],
   "source": [
    "#Program for palindrome string\n",
    "loc=\"malayalam\"\n",
    "strx=loc[::-1]\n",
    "if loc==strx:\n",
    "    print(\"Is a palindrome string\")\n",
    "else:\n",
    "    print(\"Not a palindrome\")"
   ]
  },
  {
   "cell_type": "markdown",
   "metadata": {},
   "source": [
    "# List's"
   ]
  },
  {
   "cell_type": "code",
   "execution_count": null,
   "metadata": {},
   "outputs": [],
   "source": [
    "#Lists are mutable in nature(can be changed some contents)\n",
    "lst=[1,2,3,'4',5]\n",
    "print(lst)"
   ]
  },
  {
   "cell_type": "code",
   "execution_count": null,
   "metadata": {},
   "outputs": [],
   "source": [
    "lst=[1,2,3,'4',5]\n",
    "lst[3]=4  #Mutated the 3rd index str element with int\n",
    "print(lst)\n",
    "type(lst)"
   ]
  },
  {
   "cell_type": "code",
   "execution_count": null,
   "metadata": {},
   "outputs": [],
   "source": [
    "#Ex :- \n",
    "lst=['A','B','C','D','E']\n",
    "print(lst[2])\n",
    "print(lst[-2])\n",
    "print('F' in lst)"
   ]
  },
  {
   "cell_type": "code",
   "execution_count": null,
   "metadata": {},
   "outputs": [],
   "source": [
    "#Ex : List of lists\n",
    "lstx=[1,2,3,[9,0,5],4,5]\n",
    "print(lstx[3][1])\n",
    "print(lstx[3][2])"
   ]
  },
  {
   "cell_type": "code",
   "execution_count": null,
   "metadata": {},
   "outputs": [],
   "source": [
    "#Ex : Tuple of tuples\n",
    "tup=(1,2,3,(9,0,5),4,5,('a','b',('C','D','E'),'f'),6)\n",
    "print(tup[3][2])\n",
    "print(tup[6][2][2])"
   ]
  },
  {
   "cell_type": "markdown",
   "metadata": {},
   "source": [
    "List Functions"
   ]
  },
  {
   "cell_type": "markdown",
   "metadata": {},
   "source": [
    "1. Following are the some list functions\n",
    "    1. sort()\n",
    "    2. index(index)\n",
    "    3. append(element)\n",
    "    4. count(element)\n",
    "    5. insert(index,element)\n",
    "    6. copy()\n",
    "    7. reverse()\n",
    "    8. remove(element)\n",
    "    9. extend(list_object)\n",
    "    10. pop()\n",
    "    11. clear()"
   ]
  },
  {
   "cell_type": "code",
   "execution_count": null,
   "metadata": {},
   "outputs": [],
   "source": [
    "l=[1,2,3,4,5,6,7,8,9,10]\n",
    "print(l)\n",
    "#count() counts the occurances of an element\n",
    "print(l.count(11))\n"
   ]
  },
  {
   "cell_type": "code",
   "execution_count": null,
   "metadata": {},
   "outputs": [],
   "source": [
    "#append() doesn't return any value it just appends the element at end of list\n",
    "l.append(11)\n",
    "print(l.count(11))\n",
    "print(l)"
   ]
  },
  {
   "cell_type": "code",
   "execution_count": null,
   "metadata": {},
   "outputs": [],
   "source": [
    "#index() returns the index of element\n",
    "print(l.index(10))"
   ]
  },
  {
   "cell_type": "code",
   "execution_count": null,
   "metadata": {},
   "outputs": [],
   "source": [
    "#insert(index,element) adds element at given index\n",
    "l.insert(9,12)\n",
    "print(l)"
   ]
  },
  {
   "cell_type": "code",
   "execution_count": null,
   "metadata": {},
   "outputs": [],
   "source": [
    "#sort() does'nt return any value but sorts the list increasing order\n",
    "l.sort()\n",
    "print(l)"
   ]
  },
  {
   "cell_type": "code",
   "execution_count": null,
   "metadata": {},
   "outputs": [],
   "source": [
    "#reverse() same as sort but sorts in decreasing order\n",
    "l.reverse()\n",
    "print(l)"
   ]
  },
  {
   "cell_type": "code",
   "execution_count": null,
   "metadata": {},
   "outputs": [],
   "source": [
    "#remove() removes the first occurance of specified element\n",
    "l.remove(11)\n",
    "print(l)"
   ]
  },
  {
   "cell_type": "code",
   "execution_count": null,
   "metadata": {},
   "outputs": [],
   "source": [
    "#extend() extends a list by taking another list as argument\n",
    "l1=[13,14]\n",
    "l.extend(l1)\n",
    "print(l)\n",
    "del l[1]\n",
    "print(l)"
   ]
  },
  {
   "cell_type": "code",
   "execution_count": null,
   "metadata": {},
   "outputs": [],
   "source": [
    "#Pop() pops out the last entered element\n",
    "#also retrns the popped element\n",
    "#print(l.pop())\n",
    "print(l)\n",
    "print(l.pop(1))\n",
    "print(l)"
   ]
  },
  {
   "cell_type": "code",
   "execution_count": null,
   "metadata": {},
   "outputs": [],
   "source": [
    "#Copy() copies the one list contents to another list\n",
    "l2=l.copy()\n",
    "print(l2)"
   ]
  },
  {
   "cell_type": "code",
   "execution_count": null,
   "metadata": {},
   "outputs": [],
   "source": [
    "#clear() converts a list into empty list []\n",
    "l.clear()\n",
    "print(l,l2)"
   ]
  },
  {
   "cell_type": "markdown",
   "metadata": {},
   "source": [
    "# List concatination\n",
    "lsta=[1,2,3,4,5]\n",
    "lstb=[0,9,8,7,6]\n",
    "lsta+lstb"
   ]
  },
  {
   "cell_type": "code",
   "execution_count": null,
   "metadata": {},
   "outputs": [],
   "source": [
    "print(min(lsta))\n",
    "print(max(lsta))"
   ]
  },
  {
   "cell_type": "code",
   "execution_count": null,
   "metadata": {},
   "outputs": [],
   "source": [
    "lstb[1]*3\n"
   ]
  },
  {
   "cell_type": "code",
   "execution_count": null,
   "metadata": {},
   "outputs": [],
   "source": [
    "[1,2,3]*4"
   ]
  },
  {
   "cell_type": "markdown",
   "metadata": {},
   "source": [
    "# Tuple's"
   ]
  },
  {
   "cell_type": "code",
   "execution_count": null,
   "metadata": {},
   "outputs": [],
   "source": [
    "tups=(1,2,3,'A',5)\n",
    "print(tups,type(tups))"
   ]
  },
  {
   "cell_type": "code",
   "execution_count": null,
   "metadata": {},
   "outputs": [],
   "source": [
    "#Empty tuples\n",
    "tup=()\n",
    "print(tup)"
   ]
  },
  {
   "cell_type": "code",
   "execution_count": null,
   "metadata": {},
   "outputs": [],
   "source": [
    "#Single element tuples\n",
    "tupz=(1,)\n",
    "print(tupz)\n",
    "tup=(1) #these bracket are treated as paranthesis other than tuple so o/p will be type 'int'\n",
    "type(tup)"
   ]
  },
  {
   "cell_type": "code",
   "execution_count": null,
   "metadata": {},
   "outputs": [],
   "source": [
    "t1=(1,2,3,4,5,'T',7)\n",
    "print(t1[:])\n",
    "print(t1[::-1])\n",
    "print(t1[:1])\n",
    "print(t1[-1::])\n",
    "print(t1[-4:])\n",
    "print(t1[-4:-1])"
   ]
  },
  {
   "cell_type": "code",
   "execution_count": null,
   "metadata": {},
   "outputs": [],
   "source": [
    "t2=(7,2,5)\n",
    "t1+t2"
   ]
  },
  {
   "cell_type": "code",
   "execution_count": null,
   "metadata": {},
   "outputs": [],
   "source": [
    "5 in (t1+t2)"
   ]
  },
  {
   "cell_type": "code",
   "execution_count": null,
   "metadata": {},
   "outputs": [],
   "source": [
    "10 in (t1+t2)"
   ]
  },
  {
   "cell_type": "code",
   "execution_count": null,
   "metadata": {},
   "outputs": [],
   "source": [
    "print(len(t1))\n",
    "print(len(t1+t2))"
   ]
  },
  {
   "cell_type": "code",
   "execution_count": null,
   "metadata": {},
   "outputs": [],
   "source": [
    "print(max(t2),min(t2))"
   ]
  },
  {
   "cell_type": "code",
   "execution_count": null,
   "metadata": {},
   "outputs": [],
   "source": [
    "#Converting a list to a Tuple\n",
    "print(tuple(['A','B',1,2,3,4,5]))"
   ]
  },
  {
   "cell_type": "markdown",
   "metadata": {},
   "source": [
    "# Variable length arguments"
   ]
  },
  {
   "cell_type": "code",
   "execution_count": null,
   "metadata": {},
   "outputs": [],
   "source": [
    "#Function with n number of parameters\n",
    "def get_n(*args):\n",
    "    print(args)\n",
    "get_n(1,2,3,4,5,6,7,1,2,3,4,5,6,7,1,2,3,4,5,6,7)"
   ]
  },
  {
   "cell_type": "markdown",
   "metadata": {},
   "source": [
    "# Dictionaries in Python"
   ]
  },
  {
   "cell_type": "code",
   "execution_count": null,
   "metadata": {},
   "outputs": [],
   "source": [
    "#Dictionary :- key-value pair enclosed by {} \n",
    "doraemon={1:'Doraemon',2:'Nobita',3:'Shizuka',4:'Suniyo',5:'Jian'}\n",
    "print(doraemon[4])"
   ]
  },
  {
   "cell_type": "code",
   "execution_count": null,
   "metadata": {},
   "outputs": [],
   "source": [
    "#del demo with dictionary\n",
    "del doraemon[5]\n",
    "print(doraemon)"
   ]
  },
  {
   "cell_type": "code",
   "execution_count": null,
   "metadata": {},
   "outputs": [],
   "source": [
    "#Membership operator with dictionary\n",
    "3 in doraemon"
   ]
  },
  {
   "cell_type": "code",
   "execution_count": null,
   "metadata": {},
   "outputs": [],
   "source": [
    "#Membership operator with dictionary\n",
    "'Suniyo' in doraemon"
   ]
  },
  {
   "cell_type": "code",
   "execution_count": null,
   "metadata": {},
   "outputs": [],
   "source": [
    "#Getting length of dictionary\n",
    "print(len(doraemon))\n",
    "print(doraemon.keys())\n",
    "print(doraemon.values())"
   ]
  },
  {
   "cell_type": "code",
   "execution_count": null,
   "metadata": {},
   "outputs": [],
   "source": [
    "shinchan={5:'Shinchan',6:'Himawari',7:'Masao',8:'Neni',9:'Kazama'}\n",
    "shinchan.update(doraemon)\n",
    "print(shinchan)"
   ]
  },
  {
   "cell_type": "code",
   "execution_count": null,
   "metadata": {},
   "outputs": [],
   "source": [
    "shinchan.get(7)#access items usings get() in dictionary"
   ]
  },
  {
   "cell_type": "code",
   "execution_count": null,
   "metadata": {},
   "outputs": [],
   "source": [
    "print(shinchan)\n",
    "print(type(shinchan))"
   ]
  },
  {
   "cell_type": "code",
   "execution_count": null,
   "metadata": {},
   "outputs": [],
   "source": [
    "#A dictionary may contain list/tuples\n",
    "#Ex :-\n",
    "di={1:[23,'A'],2:'B',3:['C','D','E'],4:('F',14)}\n",
    "print(di[2])\n",
    "print(di[3])   #printing list in the dictinary using key\n",
    "print(di[3][1])#Printing element of a list in dictionary\n",
    "print(di[4])   #printing tuple in the dictinary using key\n",
    "print(di[4][0])#Printing element of a tuple in dictionary\n",
    "print(type(di[4]),type(di[3]))\n",
    "print(type(di[3][1]))"
   ]
  },
  {
   "cell_type": "code",
   "execution_count": null,
   "metadata": {},
   "outputs": [],
   "source": [
    "# A dictionary may also contain another one\n",
    "d1={1:{1:2,2:4},2:{3:6,4:8}}\n",
    "print(d1[2])\n",
    "print([d1[2][4]])#finding element with key 4 at key2"
   ]
  },
  {
   "cell_type": "code",
   "execution_count": null,
   "metadata": {},
   "outputs": [],
   "source": [
    "dicz={1:'A',2:'B',3:'c',4:'D',5:'E'}"
   ]
  },
  {
   "cell_type": "code",
   "execution_count": null,
   "metadata": {},
   "outputs": [],
   "source": [
    "print(dicz.items())"
   ]
  },
  {
   "cell_type": "code",
   "execution_count": null,
   "metadata": {},
   "outputs": [],
   "source": [
    "print(dicz.values())"
   ]
  },
  {
   "cell_type": "code",
   "execution_count": null,
   "metadata": {},
   "outputs": [],
   "source": []
  },
  {
   "cell_type": "code",
   "execution_count": null,
   "metadata": {},
   "outputs": [],
   "source": []
  }
 ],
 "metadata": {
  "kernelspec": {
   "display_name": "Python 3",
   "language": "python",
   "name": "python3"
  },
  "language_info": {
   "codemirror_mode": {
    "name": "ipython",
    "version": 3
   },
   "file_extension": ".py",
   "mimetype": "text/x-python",
   "name": "python",
   "nbconvert_exporter": "python",
   "pygments_lexer": "ipython3",
   "version": "3.7.6"
  }
 },
 "nbformat": 4,
 "nbformat_minor": 4
}
