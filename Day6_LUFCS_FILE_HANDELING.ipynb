{
 "cells": [
  {
   "cell_type": "markdown",
   "metadata": {},
   "source": [
    "# File Handeling In Python"
   ]
  },
  {
   "cell_type": "markdown",
   "metadata": {},
   "source": [
    "#File Handeling functions\n",
    "1. open(file_path,mode)\n",
    "2. close()\n",
    "3. read(n)\n",
    "4. readline()\n",
    "5. readlines()\n",
    "6. tell()\n",
    "\n",
    "#File handling attributes/properties\n",
    "1. closed\n",
    "2. mode\n",
    "3. name"
   ]
  },
  {
   "cell_type": "code",
   "execution_count": 1,
   "metadata": {},
   "outputs": [],
   "source": [
    "#Modes to open a file in python\n",
    "#\"w\" for writing\n",
    "#\"r\" for reading\n",
    "#\"a\" for appending\n",
    "#\"r+\" for reading+writing\n",
    "#'open(filename,mode)'"
   ]
  },
  {
   "cell_type": "code",
   "execution_count": 5,
   "metadata": {},
   "outputs": [],
   "source": [
    "#for \"w\" mode it is not compulsory to exist a file \n",
    "#for \"r\" mode it is mandatory that file must exist\n",
    "fl=open(\"/home/shree/demo.txt\",\"w\")\n",
    "fl.close()"
   ]
  },
  {
   "cell_type": "code",
   "execution_count": 13,
   "metadata": {},
   "outputs": [],
   "source": [
    "#write() is used to write contents to a file\n",
    "\n",
    "fl=open(\"/home/shree/demo.txt\",\"w\")\n",
    "fl.write(\"This file is a demo file \\nwritten using python file handeling\")\n",
    "fl.write(\"Hello there, how are you all?\\n\")\n",
    "fl.write(\"How do you spending your quarantine time?\")\n",
    "fl.close()"
   ]
  },
  {
   "cell_type": "code",
   "execution_count": 15,
   "metadata": {},
   "outputs": [],
   "source": [
    "fl=open(\"/home/shree/demo.txt\",\"a\")\n",
    "fl.write(\"\\n\\nHello this text is appended to an \\nexisting text file..\")\n",
    "fl.close()"
   ]
  },
  {
   "cell_type": "code",
   "execution_count": 53,
   "metadata": {},
   "outputs": [
    {
     "name": "stdout",
     "output_type": "stream",
     "text": [
      "This file is a demo file \n",
      "written using python file handelingHello there, how are you all?\n",
      "How do you spending your quarantine time?Hello this text is appended to an \n",
      "existing text file..\n",
      "\n",
      "Hello this text is appended to an \n",
      "existing text file..\n",
      "-----------------------------------------------------------------------\n"
     ]
    }
   ],
   "source": [
    "#Reading files\n",
    "fl=open(\"/home/shree/demo.txt\",\"r\")\n",
    "#fl.read() #This line 'fl.read()' return whatever is written in fl.write() as it is\n",
    "print(fl.read()) #Returns entire contents of file\n",
    "print(\"-----------------------------------------------------------------------\")"
   ]
  },
  {
   "cell_type": "code",
   "execution_count": 55,
   "metadata": {},
   "outputs": [
    {
     "name": "stdout",
     "output_type": "stream",
     "text": [
      "This file is a demo \n"
     ]
    }
   ],
   "source": [
    "fl=open(\"/home/shree/demo.txt\",\"r\")\n",
    "\n",
    "print(fl.read(20)) #Returns first n number of characters"
   ]
  },
  {
   "cell_type": "code",
   "execution_count": 103,
   "metadata": {},
   "outputs": [
    {
     "name": "stdout",
     "output_type": "stream",
     "text": [
      "This file is a demo file \n",
      "\n"
     ]
    }
   ],
   "source": [
    "fl=open(\"/home/shree/demo.txt\",\"r\")\n",
    "print(fl.readline())\n",
    "fl.close()"
   ]
  },
  {
   "cell_type": "code",
   "execution_count": 100,
   "metadata": {},
   "outputs": [
    {
     "name": "stdout",
     "output_type": "stream",
     "text": [
      "['This file is a demo file \\n', 'written using python file handelingHello there, how are you all?\\n', 'How do you spending your quarantine time?Hello this text is appended to an \\n', 'existing text file..\\n', '\\n', 'Hello this text is appended to an \\n', 'existing text file..']\n",
      "244\n"
     ]
    }
   ],
   "source": [
    "fl=open(\"/home/shree/demo.txt\",\"r\")\n",
    "print(fl.readlines())\n",
    "print(fl.tell())"
   ]
  },
  {
   "cell_type": "code",
   "execution_count": 97,
   "metadata": {},
   "outputs": [
    {
     "name": "stdout",
     "output_type": "stream",
     "text": [
      "0\n"
     ]
    }
   ],
   "source": [
    "fl=open(\"/home/shree/demo.txt\",\"r\")\n"
   ]
  },
  {
   "cell_type": "code",
   "execution_count": 61,
   "metadata": {},
   "outputs": [
    {
     "name": "stdout",
     "output_type": "stream",
     "text": [
      "False\n",
      "r\n",
      "/home/shree/demo.txt\n"
     ]
    }
   ],
   "source": [
    "# File handling attributes\n",
    "print(fl.closed)          #boolean property stating either a file is open or closed\n",
    "print(fl.mode)            #returns the mode of recent file which was opened \n",
    "print(fl.name)            #returns the name of file"
   ]
  },
  {
   "cell_type": "code",
   "execution_count": 123,
   "metadata": {},
   "outputs": [
    {
     "name": "stdout",
     "output_type": "stream",
     "text": [
      "['Hello this is the new text file.\\n', 'End of file']\n"
     ]
    }
   ],
   "source": [
    "f=open(\"/home/shree/demo2.txt\",'w')\n",
    "f.write(\"Hello this is the new text file.\\n\")\n",
    "f.write(\"End of file\")\n",
    "f.close()\n",
    "f=open(\"/home/shree/demo2.txt\",'r')\n",
    "#print(f.read()) #All contents of file\n",
    "#print(f.read(5)) #only first n chars of file\n",
    "print(f.readlines())"
   ]
  },
  {
   "cell_type": "markdown",
   "metadata": {},
   "source": [
    "# Some other file related functions and modules"
   ]
  },
  {
   "cell_type": "code",
   "execution_count": 126,
   "metadata": {},
   "outputs": [],
   "source": [
    "import os \n",
    "os.rename(\"/home/shree/demo3.txt\",\"/home/shree/demo1.txt\")\n",
    "print(\"File was renamed successfully..\")"
   ]
  },
  {
   "cell_type": "code",
   "execution_count": 129,
   "metadata": {},
   "outputs": [
    {
     "name": "stdout",
     "output_type": "stream",
     "text": [
      "Data saved successfully...\n",
      "a = 1\n",
      "b = 2\n",
      "c = 3\n",
      "\n"
     ]
    }
   ],
   "source": [
    "#Writing simple addition code to a file\n",
    "a=1\n",
    "b=2\n",
    "c=a+b\n",
    "str1=\"a = \"+str(a)+\"\\n\"\n",
    "str2=\"b = \"+str(b)+\"\\n\"\n",
    "str3=\"c = \"+str(c)+\"\\n\"\n",
    "f=open(\"/home/shree/simple_addition.txt\",'w')\n",
    "f.write(str1)\n",
    "f.write(str2)\n",
    "f.write(str3)\n",
    "f.close()\n",
    "print(\"Data saved successfully...\")\n",
    "f=open(\"/home/shree/simple_addition.txt\",'r')\n",
    "print(f.read())"
   ]
  },
  {
   "cell_type": "markdown",
   "metadata": {},
   "source": [
    "# Creating folders using 'os' module"
   ]
  },
  {
   "cell_type": "code",
   "execution_count": 133,
   "metadata": {},
   "outputs": [],
   "source": [
    "import os\n",
    "os.mkdir(\"/home/shree/PythonFiles\")\n",
    "#chdir() to change the directory"
   ]
  },
  {
   "cell_type": "code",
   "execution_count": 134,
   "metadata": {},
   "outputs": [],
   "source": [
    "os.rmdir(\"/home/shree/PythonFiles\")"
   ]
  },
  {
   "cell_type": "code",
   "execution_count": 139,
   "metadata": {},
   "outputs": [
    {
     "data": {
      "text/plain": [
       "['dropsaws.xlsx',\n",
       " 'Backups',\n",
       " 'Histories',\n",
       " 'eq.preset',\n",
       " 'RESUMES',\n",
       " 'Technical_Stuff',\n",
       " '.ipynb_checkpoints',\n",
       " 'MS_AUTOMATION',\n",
       " 'shellcodeback.sh',\n",
       " '.bash.bashrc',\n",
       " 'ShellProgramming',\n",
       " 'shellcoderecovery.sh',\n",
       " 'Angular_Practice',\n",
       " 'Development_And_Automation',\n",
       " 'Interview_Prep',\n",
       " 'tgdesk.jpg.odg',\n",
       " 'Python_Practice']"
      ]
     },
     "execution_count": 139,
     "metadata": {},
     "output_type": "execute_result"
    }
   ],
   "source": [
    "os.listdir(\"/home/shree/Documents\")"
   ]
  },
  {
   "cell_type": "code",
   "execution_count": null,
   "metadata": {},
   "outputs": [],
   "source": []
  }
 ],
 "metadata": {
  "kernelspec": {
   "display_name": "Python 3",
   "language": "python",
   "name": "python3"
  },
  "language_info": {
   "codemirror_mode": {
    "name": "ipython",
    "version": 3
   },
   "file_extension": ".py",
   "mimetype": "text/x-python",
   "name": "python",
   "nbconvert_exporter": "python",
   "pygments_lexer": "ipython3",
   "version": "3.7.6"
  }
 },
 "nbformat": 4,
 "nbformat_minor": 4
}
