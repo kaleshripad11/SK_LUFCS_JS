{
 "cells": [
  {
   "cell_type": "markdown",
   "metadata": {},
   "source": [
    "# DAY 6 ASSIGNMENT: QUESTION 1"
   ]
  },
  {
   "cell_type": "code",
   "execution_count": 4,
   "metadata": {},
   "outputs": [
    {
     "name": "stdout",
     "output_type": "stream",
     "text": [
      "Enter a string in captal onlyPANKAJ\n",
      "3\n"
     ]
    }
   ],
   "source": [
    "#set of hollow characters\n",
    "itemset={'A','B','D','O','P','Q','R'}\n",
    "\n",
    "#setting holes count=0\n",
    "count=0\n",
    "lst=input(\"Enter a string in captal only\")\n",
    "ls=[]\n",
    "#Traversing lst using loop to find hollow characters\n",
    "for i in lst:\n",
    "    if i in itemset:\n",
    "        if i == 'B':\n",
    "            count=count+2\n",
    "        else:\n",
    "            count=count+1\n",
    "            #ls[i]=lst[i]\n",
    "print(count)"
   ]
  },
  {
   "cell_type": "markdown",
   "metadata": {},
   "source": [
    "# DAY 6 ASSIGNMENT: QUESTION 2"
   ]
  },
  {
   "cell_type": "code",
   "execution_count": 5,
   "metadata": {},
   "outputs": [],
   "source": [
    "#MAP FUNCTION AND LAMBDA"
   ]
  },
  {
   "cell_type": "code",
   "execution_count": 14,
   "metadata": {},
   "outputs": [
    {
     "name": "stdout",
     "output_type": "stream",
     "text": [
      "[2, 20]\n"
     ]
    }
   ],
   "source": [
    "#map(function,iterable)\n",
    "#map function to print factorial\n",
    "def print_fact(n):\n",
    "    return n*(n-1)\n",
    "\n",
    "#Second argument in map function must be a list\n",
    "#x=map(print_fact,[2,5])\n",
    "print(list(map(print_fact,[2,5])))"
   ]
  },
  {
   "cell_type": "code",
   "execution_count": null,
   "metadata": {},
   "outputs": [],
   "source": [
    "#With map() \n",
    "def get_sqr(x):\n",
    "    return x*x\n",
    "#to print the contents of map() we must use list object\n",
    "r=map(get_sqr,[1,2,3])\n",
    "print(r)\n",
    "print(list(r))     #o/p:- [1, 4, 9]"
   ]
  },
  {
   "cell_type": "code",
   "execution_count": 16,
   "metadata": {},
   "outputs": [
    {
     "name": "stdout",
     "output_type": "stream",
     "text": [
      "(1, 4, 9)\n"
     ]
    }
   ],
   "source": [
    "#With map() \n",
    "def get_sqr(x):\n",
    "    return x*x\n",
    "#to print the contents of map() we must use list object\n",
    "r=map(get_sqr,[1,2,3])\n",
    "print(tuple(r))   #o/p:- (1, 4, 9)"
   ]
  },
  {
   "cell_type": "code",
   "execution_count": 17,
   "metadata": {},
   "outputs": [
    {
     "name": "stdout",
     "output_type": "stream",
     "text": [
      "{1, 4, 9}\n"
     ]
    }
   ],
   "source": [
    "#With map() \n",
    "def get_sqr(x):\n",
    "    return x*x\n",
    "#to print the contents of map() we must use list object\n",
    "r=map(get_sqr,[1,2,3])\n",
    "print(set(r))     #o/p:- {1, 4, 9}"
   ]
  },
  {
   "cell_type": "code",
   "execution_count": 23,
   "metadata": {},
   "outputs": [
    {
     "name": "stdout",
     "output_type": "stream",
     "text": [
      "[1.6666666666666667]\n"
     ]
    }
   ],
   "source": [
    "#print division using map function\n",
    "def division(a,b):\n",
    "    return a/b\n",
    "print(list(map(division,[5],[3])))"
   ]
  },
  {
   "cell_type": "code",
   "execution_count": 29,
   "metadata": {},
   "outputs": [
    {
     "name": "stdout",
     "output_type": "stream",
     "text": [
      "(43.96, 56.52)\n"
     ]
    }
   ],
   "source": [
    "#print circumfarance of circle using map()\n",
    "def tri_area(r):\n",
    "    return 2*3.14*r\n",
    "print(tuple(map(tri_area,[7,9])))"
   ]
  },
  {
   "cell_type": "code",
   "execution_count": 35,
   "metadata": {},
   "outputs": [
    {
     "name": "stdout",
     "output_type": "stream",
     "text": [
      "(4, 16, 49, 64)\n"
     ]
    },
    {
     "data": {
      "text/plain": [
       "200.96"
      ]
     },
     "execution_count": 35,
     "metadata": {},
     "output_type": "execute_result"
    }
   ],
   "source": [
    "#print area of square using map()\n",
    "def area_sqr(area):\n",
    "    return area*area\n",
    "print(tuple(map(area_sqr,[2,4,7,8])))"
   ]
  },
  {
   "cell_type": "code",
   "execution_count": 36,
   "metadata": {},
   "outputs": [
    {
     "name": "stdout",
     "output_type": "stream",
     "text": [
      "(9847.04, 254.34)\n"
     ]
    }
   ],
   "source": [
    "#print area of circle using map()\n",
    "def cir_area(r):\n",
    "    return 3.14*r*r\n",
    "print(tuple(map(cir_area,[56,9])))"
   ]
  },
  {
   "cell_type": "markdown",
   "metadata": {},
   "source": [
    "# Lambda functions"
   ]
  },
  {
   "cell_type": "code",
   "execution_count": 40,
   "metadata": {},
   "outputs": [
    {
     "data": {
      "text/plain": [
       "625"
      ]
     },
     "execution_count": 40,
     "metadata": {},
     "output_type": "execute_result"
    }
   ],
   "source": [
    "#lambda demo\n",
    "x = lambda z:z**4 # 'x' is acting like a variable \n",
    "x(5)              # but here 'x()' is a function because of 'lambda'"
   ]
  },
  {
   "cell_type": "code",
   "execution_count": 41,
   "metadata": {},
   "outputs": [
    {
     "name": "stdout",
     "output_type": "stream",
     "text": [
      "<function demo_lamda.<locals>.<lambda> at 0x7f4d8c0daf80>\n",
      "14\n"
     ]
    }
   ],
   "source": [
    "#lambda within user defined function\n",
    "def demo_lamda(s):\n",
    "    return lambda z:z+s\n",
    "a=demo_lamda(5)\n",
    "print(a)\n",
    "print(a(9))"
   ]
  },
  {
   "cell_type": "code",
   "execution_count": 42,
   "metadata": {},
   "outputs": [
    {
     "name": "stdout",
     "output_type": "stream",
     "text": [
      "8\n"
     ]
    }
   ],
   "source": [
    "#demo lambda funciton for addition\n",
    "y=lambda x : x+1\n",
    "\n",
    "print(y(7))"
   ]
  },
  {
   "cell_type": "code",
   "execution_count": 43,
   "metadata": {},
   "outputs": [
    {
     "name": "stdout",
     "output_type": "stream",
     "text": [
      "42\n"
     ]
    }
   ],
   "source": [
    "#lambda function for factorial\n",
    "fact=lambda n : n*(n-1)\n",
    "print(fact(7))"
   ]
  },
  {
   "cell_type": "code",
   "execution_count": 47,
   "metadata": {},
   "outputs": [
    {
     "name": "stdout",
     "output_type": "stream",
     "text": [
      "56.52\n"
     ]
    }
   ],
   "source": [
    "#print circumfarance of circle using lambda()\n",
    "circ=lambda r : 2*3.14*r\n",
    "print((circ(9)))"
   ]
  },
  {
   "cell_type": "code",
   "execution_count": 51,
   "metadata": {},
   "outputs": [
    {
     "name": "stdout",
     "output_type": "stream",
     "text": [
      "<class 'function'>\n",
      "<function <lambda> at 0x7f4d8c38b3b0>\n",
      "16\n"
     ]
    }
   ],
   "source": [
    "#print area of sqaure\n",
    "sqr_area= lambda s : s*s\n",
    "print(type(sqr_area)) #will just print type of argument\n",
    "print(sqr_area)       #will print type of args as whether it is lambda or not\n",
    "print(sqr_area(4))"
   ]
  },
  {
   "cell_type": "code",
   "execution_count": 53,
   "metadata": {},
   "outputs": [
    {
     "name": "stdout",
     "output_type": "stream",
     "text": [
      "60\n"
     ]
    }
   ],
   "source": [
    "#write a lambda function to print result by adding 10 to a number\n",
    "n=lambda n : n+10\n",
    "print(n(50))"
   ]
  },
  {
   "cell_type": "code",
   "execution_count": null,
   "metadata": {},
   "outputs": [],
   "source": []
  }
 ],
 "metadata": {
  "kernelspec": {
   "display_name": "Python 3",
   "language": "python",
   "name": "python3"
  },
  "language_info": {
   "codemirror_mode": {
    "name": "ipython",
    "version": 3
   },
   "file_extension": ".py",
   "mimetype": "text/x-python",
   "name": "python",
   "nbconvert_exporter": "python",
   "pygments_lexer": "ipython3",
   "version": "3.7.6"
  }
 },
 "nbformat": 4,
 "nbformat_minor": 4
}
